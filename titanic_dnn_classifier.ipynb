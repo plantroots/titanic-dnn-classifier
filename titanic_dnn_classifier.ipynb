{
  "nbformat": 4,
  "nbformat_minor": 0,
  "metadata": {
    "colab": {
      "name": "titanic_dnn_classifier.ipynb",
      "provenance": [],
      "collapsed_sections": [],
      "mount_file_id": "1ka26y2Dj59pBW-BuWWuRM_WP58_ewOV3",
      "authorship_tag": "ABX9TyM1zRQykaaJ2ZM8jthGSJXj",
      "include_colab_link": true
    },
    "kernelspec": {
      "name": "python3",
      "display_name": "Python 3"
    },
    "language_info": {
      "name": "python"
    }
  },
  "cells": [
    {
      "cell_type": "markdown",
      "metadata": {
        "id": "view-in-github",
        "colab_type": "text"
      },
      "source": [
        "<a href=\"https://colab.research.google.com/github/plantroots/titanic-dnn-classifier/blob/main/titanic_dnn_classifier.ipynb\" target=\"_parent\"><img src=\"https://colab.research.google.com/assets/colab-badge.svg\" alt=\"Open In Colab\"/></a>"
      ]
    },
    {
      "cell_type": "code",
      "execution_count": null,
      "metadata": {
        "id": "183Wy5CmvlkU"
      },
      "outputs": [],
      "source": [
        "from google.colab import drive\n",
        "drive.mount('/content/drive')"
      ]
    },
    {
      "cell_type": "code",
      "source": [
        "import numpy as np\n",
        "import pandas as pd"
      ],
      "metadata": {
        "id": "PxoS8zHsvyKf"
      },
      "execution_count": null,
      "outputs": []
    },
    {
      "cell_type": "code",
      "source": [
        "train = pd.read_csv(\"/content/drive/MyDrive/Colab Notebooks/Kaggle/titanic competition/dataset/train.csv\")\n",
        "test = pd.read_csv(\"/content/drive/MyDrive/Colab Notebooks/Kaggle/titanic competition/dataset/test.csv\")"
      ],
      "metadata": {
        "id": "qTHVbKRTwH--"
      },
      "execution_count": null,
      "outputs": []
    },
    {
      "cell_type": "markdown",
      "source": [
        "**Features**: \n",
        "survival - Survival (0 = No; 1 = Yes);\n",
        "Passenger Class (1 = 1st; 2 = 2nd; 3 = 3rd);\n",
        "name - Name;\n",
        "sex - Sex;\n",
        "age - Age;\n",
        "sibsp - Number of Siblings/Spouses Aboard;\n",
        "parch - Number of Parents/Children Aboard;\n",
        "ticket - Ticket Number;\n",
        "fare - Passenger Fare;\n",
        "cabin - Cabin;\n",
        "embarked - Port of Embarkation (C = Cherbourg; Q = Queenstown; S = Southampton);"
      ],
      "metadata": {
        "id": "q7Sg1Qd93xtV"
      }
    },
    {
      "cell_type": "code",
      "source": [
        "train.head(2)"
      ],
      "metadata": {
        "id": "27cik9E7wPKU",
        "colab": {
          "base_uri": "https://localhost:8080/",
          "height": 112
        },
        "outputId": "74df593f-5a84-4bb0-c781-759542c7ddef"
      },
      "execution_count": null,
      "outputs": [
        {
          "output_type": "execute_result",
          "data": {
            "text/plain": [
              "   PassengerId  Survived  Pclass  \\\n",
              "0            1         0       3   \n",
              "1            2         1       1   \n",
              "\n",
              "                                                Name     Sex   Age  SibSp  \\\n",
              "0                            Braund, Mr. Owen Harris    male  22.0      1   \n",
              "1  Cumings, Mrs. John Bradley (Florence Briggs Th...  female  38.0      1   \n",
              "\n",
              "   Parch     Ticket     Fare Cabin Embarked  \n",
              "0      0  A/5 21171   7.2500   NaN        S  \n",
              "1      0   PC 17599  71.2833   C85        C  "
            ],
            "text/html": [
              "\n",
              "  <div id=\"df-2efcd60f-6761-4755-bcee-15e4fbe00a7d\">\n",
              "    <div class=\"colab-df-container\">\n",
              "      <div>\n",
              "<style scoped>\n",
              "    .dataframe tbody tr th:only-of-type {\n",
              "        vertical-align: middle;\n",
              "    }\n",
              "\n",
              "    .dataframe tbody tr th {\n",
              "        vertical-align: top;\n",
              "    }\n",
              "\n",
              "    .dataframe thead th {\n",
              "        text-align: right;\n",
              "    }\n",
              "</style>\n",
              "<table border=\"1\" class=\"dataframe\">\n",
              "  <thead>\n",
              "    <tr style=\"text-align: right;\">\n",
              "      <th></th>\n",
              "      <th>PassengerId</th>\n",
              "      <th>Survived</th>\n",
              "      <th>Pclass</th>\n",
              "      <th>Name</th>\n",
              "      <th>Sex</th>\n",
              "      <th>Age</th>\n",
              "      <th>SibSp</th>\n",
              "      <th>Parch</th>\n",
              "      <th>Ticket</th>\n",
              "      <th>Fare</th>\n",
              "      <th>Cabin</th>\n",
              "      <th>Embarked</th>\n",
              "    </tr>\n",
              "  </thead>\n",
              "  <tbody>\n",
              "    <tr>\n",
              "      <th>0</th>\n",
              "      <td>1</td>\n",
              "      <td>0</td>\n",
              "      <td>3</td>\n",
              "      <td>Braund, Mr. Owen Harris</td>\n",
              "      <td>male</td>\n",
              "      <td>22.0</td>\n",
              "      <td>1</td>\n",
              "      <td>0</td>\n",
              "      <td>A/5 21171</td>\n",
              "      <td>7.2500</td>\n",
              "      <td>NaN</td>\n",
              "      <td>S</td>\n",
              "    </tr>\n",
              "    <tr>\n",
              "      <th>1</th>\n",
              "      <td>2</td>\n",
              "      <td>1</td>\n",
              "      <td>1</td>\n",
              "      <td>Cumings, Mrs. John Bradley (Florence Briggs Th...</td>\n",
              "      <td>female</td>\n",
              "      <td>38.0</td>\n",
              "      <td>1</td>\n",
              "      <td>0</td>\n",
              "      <td>PC 17599</td>\n",
              "      <td>71.2833</td>\n",
              "      <td>C85</td>\n",
              "      <td>C</td>\n",
              "    </tr>\n",
              "  </tbody>\n",
              "</table>\n",
              "</div>\n",
              "      <button class=\"colab-df-convert\" onclick=\"convertToInteractive('df-2efcd60f-6761-4755-bcee-15e4fbe00a7d')\"\n",
              "              title=\"Convert this dataframe to an interactive table.\"\n",
              "              style=\"display:none;\">\n",
              "        \n",
              "  <svg xmlns=\"http://www.w3.org/2000/svg\" height=\"24px\"viewBox=\"0 0 24 24\"\n",
              "       width=\"24px\">\n",
              "    <path d=\"M0 0h24v24H0V0z\" fill=\"none\"/>\n",
              "    <path d=\"M18.56 5.44l.94 2.06.94-2.06 2.06-.94-2.06-.94-.94-2.06-.94 2.06-2.06.94zm-11 1L8.5 8.5l.94-2.06 2.06-.94-2.06-.94L8.5 2.5l-.94 2.06-2.06.94zm10 10l.94 2.06.94-2.06 2.06-.94-2.06-.94-.94-2.06-.94 2.06-2.06.94z\"/><path d=\"M17.41 7.96l-1.37-1.37c-.4-.4-.92-.59-1.43-.59-.52 0-1.04.2-1.43.59L10.3 9.45l-7.72 7.72c-.78.78-.78 2.05 0 2.83L4 21.41c.39.39.9.59 1.41.59.51 0 1.02-.2 1.41-.59l7.78-7.78 2.81-2.81c.8-.78.8-2.07 0-2.86zM5.41 20L4 18.59l7.72-7.72 1.47 1.35L5.41 20z\"/>\n",
              "  </svg>\n",
              "      </button>\n",
              "      \n",
              "  <style>\n",
              "    .colab-df-container {\n",
              "      display:flex;\n",
              "      flex-wrap:wrap;\n",
              "      gap: 12px;\n",
              "    }\n",
              "\n",
              "    .colab-df-convert {\n",
              "      background-color: #E8F0FE;\n",
              "      border: none;\n",
              "      border-radius: 50%;\n",
              "      cursor: pointer;\n",
              "      display: none;\n",
              "      fill: #1967D2;\n",
              "      height: 32px;\n",
              "      padding: 0 0 0 0;\n",
              "      width: 32px;\n",
              "    }\n",
              "\n",
              "    .colab-df-convert:hover {\n",
              "      background-color: #E2EBFA;\n",
              "      box-shadow: 0px 1px 2px rgba(60, 64, 67, 0.3), 0px 1px 3px 1px rgba(60, 64, 67, 0.15);\n",
              "      fill: #174EA6;\n",
              "    }\n",
              "\n",
              "    [theme=dark] .colab-df-convert {\n",
              "      background-color: #3B4455;\n",
              "      fill: #D2E3FC;\n",
              "    }\n",
              "\n",
              "    [theme=dark] .colab-df-convert:hover {\n",
              "      background-color: #434B5C;\n",
              "      box-shadow: 0px 1px 3px 1px rgba(0, 0, 0, 0.15);\n",
              "      filter: drop-shadow(0px 1px 2px rgba(0, 0, 0, 0.3));\n",
              "      fill: #FFFFFF;\n",
              "    }\n",
              "  </style>\n",
              "\n",
              "      <script>\n",
              "        const buttonEl =\n",
              "          document.querySelector('#df-2efcd60f-6761-4755-bcee-15e4fbe00a7d button.colab-df-convert');\n",
              "        buttonEl.style.display =\n",
              "          google.colab.kernel.accessAllowed ? 'block' : 'none';\n",
              "\n",
              "        async function convertToInteractive(key) {\n",
              "          const element = document.querySelector('#df-2efcd60f-6761-4755-bcee-15e4fbe00a7d');\n",
              "          const dataTable =\n",
              "            await google.colab.kernel.invokeFunction('convertToInteractive',\n",
              "                                                     [key], {});\n",
              "          if (!dataTable) return;\n",
              "\n",
              "          const docLinkHtml = 'Like what you see? Visit the ' +\n",
              "            '<a target=\"_blank\" href=https://colab.research.google.com/notebooks/data_table.ipynb>data table notebook</a>'\n",
              "            + ' to learn more about interactive tables.';\n",
              "          element.innerHTML = '';\n",
              "          dataTable['output_type'] = 'display_data';\n",
              "          await google.colab.output.renderOutput(dataTable, element);\n",
              "          const docLink = document.createElement('div');\n",
              "          docLink.innerHTML = docLinkHtml;\n",
              "          element.appendChild(docLink);\n",
              "        }\n",
              "      </script>\n",
              "    </div>\n",
              "  </div>\n",
              "  "
            ]
          },
          "metadata": {},
          "execution_count": 4
        }
      ]
    },
    {
      "cell_type": "code",
      "source": [
        "test.head(2)"
      ],
      "metadata": {
        "id": "0TE_hN7rwRck",
        "colab": {
          "base_uri": "https://localhost:8080/",
          "height": 112
        },
        "outputId": "f171f74a-a05e-4a42-d938-0afd6050eecc"
      },
      "execution_count": null,
      "outputs": [
        {
          "output_type": "execute_result",
          "data": {
            "text/plain": [
              "   PassengerId  Pclass                              Name     Sex   Age  SibSp  \\\n",
              "0          892       3                  Kelly, Mr. James    male  34.5      0   \n",
              "1          893       3  Wilkes, Mrs. James (Ellen Needs)  female  47.0      1   \n",
              "\n",
              "   Parch  Ticket    Fare Cabin Embarked  \n",
              "0      0  330911  7.8292   NaN        Q  \n",
              "1      0  363272  7.0000   NaN        S  "
            ],
            "text/html": [
              "\n",
              "  <div id=\"df-2a1642a1-6464-4347-9fe9-06bfea784eca\">\n",
              "    <div class=\"colab-df-container\">\n",
              "      <div>\n",
              "<style scoped>\n",
              "    .dataframe tbody tr th:only-of-type {\n",
              "        vertical-align: middle;\n",
              "    }\n",
              "\n",
              "    .dataframe tbody tr th {\n",
              "        vertical-align: top;\n",
              "    }\n",
              "\n",
              "    .dataframe thead th {\n",
              "        text-align: right;\n",
              "    }\n",
              "</style>\n",
              "<table border=\"1\" class=\"dataframe\">\n",
              "  <thead>\n",
              "    <tr style=\"text-align: right;\">\n",
              "      <th></th>\n",
              "      <th>PassengerId</th>\n",
              "      <th>Pclass</th>\n",
              "      <th>Name</th>\n",
              "      <th>Sex</th>\n",
              "      <th>Age</th>\n",
              "      <th>SibSp</th>\n",
              "      <th>Parch</th>\n",
              "      <th>Ticket</th>\n",
              "      <th>Fare</th>\n",
              "      <th>Cabin</th>\n",
              "      <th>Embarked</th>\n",
              "    </tr>\n",
              "  </thead>\n",
              "  <tbody>\n",
              "    <tr>\n",
              "      <th>0</th>\n",
              "      <td>892</td>\n",
              "      <td>3</td>\n",
              "      <td>Kelly, Mr. James</td>\n",
              "      <td>male</td>\n",
              "      <td>34.5</td>\n",
              "      <td>0</td>\n",
              "      <td>0</td>\n",
              "      <td>330911</td>\n",
              "      <td>7.8292</td>\n",
              "      <td>NaN</td>\n",
              "      <td>Q</td>\n",
              "    </tr>\n",
              "    <tr>\n",
              "      <th>1</th>\n",
              "      <td>893</td>\n",
              "      <td>3</td>\n",
              "      <td>Wilkes, Mrs. James (Ellen Needs)</td>\n",
              "      <td>female</td>\n",
              "      <td>47.0</td>\n",
              "      <td>1</td>\n",
              "      <td>0</td>\n",
              "      <td>363272</td>\n",
              "      <td>7.0000</td>\n",
              "      <td>NaN</td>\n",
              "      <td>S</td>\n",
              "    </tr>\n",
              "  </tbody>\n",
              "</table>\n",
              "</div>\n",
              "      <button class=\"colab-df-convert\" onclick=\"convertToInteractive('df-2a1642a1-6464-4347-9fe9-06bfea784eca')\"\n",
              "              title=\"Convert this dataframe to an interactive table.\"\n",
              "              style=\"display:none;\">\n",
              "        \n",
              "  <svg xmlns=\"http://www.w3.org/2000/svg\" height=\"24px\"viewBox=\"0 0 24 24\"\n",
              "       width=\"24px\">\n",
              "    <path d=\"M0 0h24v24H0V0z\" fill=\"none\"/>\n",
              "    <path d=\"M18.56 5.44l.94 2.06.94-2.06 2.06-.94-2.06-.94-.94-2.06-.94 2.06-2.06.94zm-11 1L8.5 8.5l.94-2.06 2.06-.94-2.06-.94L8.5 2.5l-.94 2.06-2.06.94zm10 10l.94 2.06.94-2.06 2.06-.94-2.06-.94-.94-2.06-.94 2.06-2.06.94z\"/><path d=\"M17.41 7.96l-1.37-1.37c-.4-.4-.92-.59-1.43-.59-.52 0-1.04.2-1.43.59L10.3 9.45l-7.72 7.72c-.78.78-.78 2.05 0 2.83L4 21.41c.39.39.9.59 1.41.59.51 0 1.02-.2 1.41-.59l7.78-7.78 2.81-2.81c.8-.78.8-2.07 0-2.86zM5.41 20L4 18.59l7.72-7.72 1.47 1.35L5.41 20z\"/>\n",
              "  </svg>\n",
              "      </button>\n",
              "      \n",
              "  <style>\n",
              "    .colab-df-container {\n",
              "      display:flex;\n",
              "      flex-wrap:wrap;\n",
              "      gap: 12px;\n",
              "    }\n",
              "\n",
              "    .colab-df-convert {\n",
              "      background-color: #E8F0FE;\n",
              "      border: none;\n",
              "      border-radius: 50%;\n",
              "      cursor: pointer;\n",
              "      display: none;\n",
              "      fill: #1967D2;\n",
              "      height: 32px;\n",
              "      padding: 0 0 0 0;\n",
              "      width: 32px;\n",
              "    }\n",
              "\n",
              "    .colab-df-convert:hover {\n",
              "      background-color: #E2EBFA;\n",
              "      box-shadow: 0px 1px 2px rgba(60, 64, 67, 0.3), 0px 1px 3px 1px rgba(60, 64, 67, 0.15);\n",
              "      fill: #174EA6;\n",
              "    }\n",
              "\n",
              "    [theme=dark] .colab-df-convert {\n",
              "      background-color: #3B4455;\n",
              "      fill: #D2E3FC;\n",
              "    }\n",
              "\n",
              "    [theme=dark] .colab-df-convert:hover {\n",
              "      background-color: #434B5C;\n",
              "      box-shadow: 0px 1px 3px 1px rgba(0, 0, 0, 0.15);\n",
              "      filter: drop-shadow(0px 1px 2px rgba(0, 0, 0, 0.3));\n",
              "      fill: #FFFFFF;\n",
              "    }\n",
              "  </style>\n",
              "\n",
              "      <script>\n",
              "        const buttonEl =\n",
              "          document.querySelector('#df-2a1642a1-6464-4347-9fe9-06bfea784eca button.colab-df-convert');\n",
              "        buttonEl.style.display =\n",
              "          google.colab.kernel.accessAllowed ? 'block' : 'none';\n",
              "\n",
              "        async function convertToInteractive(key) {\n",
              "          const element = document.querySelector('#df-2a1642a1-6464-4347-9fe9-06bfea784eca');\n",
              "          const dataTable =\n",
              "            await google.colab.kernel.invokeFunction('convertToInteractive',\n",
              "                                                     [key], {});\n",
              "          if (!dataTable) return;\n",
              "\n",
              "          const docLinkHtml = 'Like what you see? Visit the ' +\n",
              "            '<a target=\"_blank\" href=https://colab.research.google.com/notebooks/data_table.ipynb>data table notebook</a>'\n",
              "            + ' to learn more about interactive tables.';\n",
              "          element.innerHTML = '';\n",
              "          dataTable['output_type'] = 'display_data';\n",
              "          await google.colab.output.renderOutput(dataTable, element);\n",
              "          const docLink = document.createElement('div');\n",
              "          docLink.innerHTML = docLinkHtml;\n",
              "          element.appendChild(docLink);\n",
              "        }\n",
              "      </script>\n",
              "    </div>\n",
              "  </div>\n",
              "  "
            ]
          },
          "metadata": {},
          "execution_count": 5
        }
      ]
    },
    {
      "cell_type": "code",
      "source": [
        "test[\"Fare\"].fillna(round(test[\"Fare\"].mean(), 2), inplace = True)\n",
        "\n",
        "train[\"Age\"].fillna(round(train[\"Age\"].mean(),2 ), inplace = True)\n",
        "test[\"Age\"].fillna(round(test[\"Age\"].mean(),2 ), inplace = True)\n",
        "\n",
        "train.drop(\"Cabin\", axis=\"columns\", inplace=True)\n",
        "test.drop(\"Cabin\", axis=\"columns\", inplace=True)\n",
        "\n",
        "train.drop(\"Name\", axis=\"columns\", inplace=True)\n",
        "test.drop(\"Name\", axis=\"columns\", inplace=True)\n",
        "\n",
        "train.drop(\"Ticket\", axis=\"columns\", inplace=True)\n",
        "test.drop(\"Ticket\", axis=\"columns\", inplace=True)\n",
        "\n",
        "train.drop(\"PassengerId\", axis=\"columns\", inplace=True)\n",
        "# save the ids\n",
        "test_ids = test[\"PassengerId\"]\n",
        "test.drop(\"PassengerId\", axis=\"columns\", inplace=True)\n",
        "\n",
        "train[\"Embarked\"].fillna(\"S\", inplace=True)\n",
        "\n",
        "def sex_convert(sex):\n",
        "  if sex == \"female\":\n",
        "    return 0\n",
        "  elif sex == \"male\":\n",
        "    return 1\n",
        "  else:\n",
        "    return sex\n",
        "\n",
        "def embarked_convert(embarked):\n",
        "  if embarked == \"S\":\n",
        "    return 0\n",
        "  elif embarked == \"C\":\n",
        "    return 1\n",
        "  elif embarked == \"Q\":\n",
        "    return 2\n",
        "  else:\n",
        "    return embarked\n",
        "\n",
        "\n",
        "train[\"Sex\"] = train[\"Sex\"].map(sex_convert)\n",
        "test[\"Sex\"] = test[\"Sex\"].map(sex_convert)\n",
        "\n",
        "train[\"Embarked\"] = train[\"Embarked\"].map(embarked_convert)\n",
        "test[\"Embarked\"] = test[\"Embarked\"].map(embarked_convert)"
      ],
      "metadata": {
        "id": "wO-V6-b7MKzg"
      },
      "execution_count": null,
      "outputs": []
    },
    {
      "cell_type": "code",
      "source": [
        "# # TRAIN TOTAL: 891\n",
        "# # TEST TOTAL: 418\n",
        "# print(train.isna().sum())\n",
        "# print()\n",
        "# print(test.isna().sum())"
      ],
      "metadata": {
        "id": "Kc0I66KHxoWW"
      },
      "execution_count": null,
      "outputs": []
    },
    {
      "cell_type": "markdown",
      "source": [
        "# **Distributions and Outliers**"
      ],
      "metadata": {
        "id": "1hmLS6UxMMg3"
      }
    },
    {
      "cell_type": "code",
      "source": [
        "# def remove_outlier_fare(value):\n",
        "#   mean = round(train[\"Fare\"].mean(), 2)\n",
        "#   if value > 60:\n",
        "#     return mean\n",
        "#   else:\n",
        "#     return value\n",
        "\n",
        "# train[\"Fare\"] = train[\"Fare\"].map(remove_outlier_fare)"
      ],
      "metadata": {
        "id": "ZdlyVXgwsAC5"
      },
      "execution_count": null,
      "outputs": []
    },
    {
      "cell_type": "code",
      "source": [
        "context = \"Fare\"\n",
        "print(f\"Maximum {context}:\", max(train[f\"{context}\"].unique()))\n",
        "print(f\"Minimum {context}:\", min(train[f\"{context}\"].unique()))\n",
        "print(f\"Average {context}:\", round(train[f\"{context}\"].mean(), 2))\n",
        "print(\"Standard Deviation:\", round(train[f\"{context}\"].std(), 2))\n",
        "print()\n",
        "train[f\"{context}\"].plot(kind=\"hist\", figsize=(5,5), title=context)"
      ],
      "metadata": {
        "colab": {
          "base_uri": "https://localhost:8080/",
          "height": 440
        },
        "id": "4N9b2uA1yeIW",
        "outputId": "38de2687-37f8-4a3b-ad72-4eac39baad7f"
      },
      "execution_count": null,
      "outputs": [
        {
          "output_type": "stream",
          "name": "stdout",
          "text": [
            "Maximum Fare: 512.3292\n",
            "Minimum Fare: 0.0\n",
            "Average Fare: 32.2\n",
            "Standard Deviation: 49.69\n",
            "\n"
          ]
        },
        {
          "output_type": "execute_result",
          "data": {
            "text/plain": [
              "<matplotlib.axes._subplots.AxesSubplot at 0x7f4fa1651d90>"
            ]
          },
          "metadata": {},
          "execution_count": 12
        },
        {
          "output_type": "display_data",
          "data": {
            "text/plain": [
              "<Figure size 360x360 with 1 Axes>"
            ],
            "image/png": "[encoded data removed]"
          },
          "metadata": {
            "needs_background": "light"
          }
        }
      ]
    },
    {
      "cell_type": "code",
      "source": [
        "# def remove_outlier_sibsp(value):\n",
        "#   mean = round(train[\"SibSp\"].mean(), 2)\n",
        "#   if value > 7:\n",
        "#     return mean\n",
        "#   else:\n",
        "#     return value\n",
        "\n",
        "# train[\"SibSp\"] = train[\"SibSp\"].map(remove_outlier_sibsp)"
      ],
      "metadata": {
        "id": "MRIcds1yrlcU"
      },
      "execution_count": null,
      "outputs": []
    },
    {
      "cell_type": "code",
      "source": [
        "context = \"SibSp\"\n",
        "print(f\"Maximum {context}:\", max(train[f\"{context}\"].unique()))\n",
        "print(f\"Minimum {context}:\", min(train[f\"{context}\"].unique()))\n",
        "print(f\"Average {context}:\", round(train[f\"{context}\"].mean(), 2))\n",
        "print(\"Standard Deviation:\", round(train[f\"{context}\"].std(), 2))\n",
        "print()\n",
        "train[f\"{context}\"].plot(kind=\"hist\", figsize=(5,5), title=context)"
      ],
      "metadata": {
        "colab": {
          "base_uri": "https://localhost:8080/",
          "height": 440
        },
        "id": "P2szNXa_780A",
        "outputId": "aadf3763-dc01-46b3-ae3c-2beb4b528322"
      },
      "execution_count": null,
      "outputs": [
        {
          "output_type": "stream",
          "name": "stdout",
          "text": [
            "Maximum SibSp: 8\n",
            "Minimum SibSp: 0\n",
            "Average SibSp: 0.52\n",
            "Standard Deviation: 1.1\n",
            "\n"
          ]
        },
        {
          "output_type": "execute_result",
          "data": {
            "text/plain": [
              "<matplotlib.axes._subplots.AxesSubplot at 0x7f4fa15dcb10>"
            ]
          },
          "metadata": {},
          "execution_count": 13
        },
        {
          "output_type": "display_data",
          "data": {
            "text/plain": [
              "<Figure size 360x360 with 1 Axes>"
            ],
            "image/png": "[encoded data removed]"
          },
          "metadata": {
            "needs_background": "light"
          }
        }
      ]
    },
    {
      "cell_type": "code",
      "source": [
        "# def remove_outlier_parch(value):\n",
        "#   mean = round(train[\"Parch\"].mean(), 2)\n",
        "#   if value > 5:\n",
        "#     return mean\n",
        "#   else:\n",
        "#     return value\n",
        "\n",
        "# train[\"Parch\"] = train[\"Parch\"].map(remove_outlier_parch)"
      ],
      "metadata": {
        "id": "CE7sTiRsqnYC"
      },
      "execution_count": null,
      "outputs": []
    },
    {
      "cell_type": "code",
      "source": [
        "context = \"Parch\"\n",
        "print(f\"Maximum {context}:\", max(train[f\"{context}\"].unique()))\n",
        "print(f\"Minimum {context}:\", min(train[f\"{context}\"].unique()))\n",
        "print(f\"Average {context}:\", round(train[f\"{context}\"].mean(), 2))\n",
        "print(\"Standard Deviation:\", round(train[f\"{context}\"].std(), 2))\n",
        "print()\n",
        "train[f\"{context}\"].plot(kind=\"hist\", figsize=(5,5), title=context)"
      ],
      "metadata": {
        "colab": {
          "base_uri": "https://localhost:8080/",
          "height": 440
        },
        "id": "K3wnQehtpIaG",
        "outputId": "93449c91-dfc4-4d9a-bb48-5d307546d6b6"
      },
      "execution_count": null,
      "outputs": [
        {
          "output_type": "stream",
          "name": "stdout",
          "text": [
            "Maximum Parch: 6\n",
            "Minimum Parch: 0\n",
            "Average Parch: 0.38\n",
            "Standard Deviation: 0.81\n",
            "\n"
          ]
        },
        {
          "output_type": "execute_result",
          "data": {
            "text/plain": [
              "<matplotlib.axes._subplots.AxesSubplot at 0x7f4fa1736950>"
            ]
          },
          "metadata": {},
          "execution_count": 11
        },
        {
          "output_type": "display_data",
          "data": {
            "text/plain": [
              "<Figure size 360x360 with 1 Axes>"
            ],
            "image/png": "[encoded data removed]"
          },
          "metadata": {
            "needs_background": "light"
          }
        }
      ]
    },
    {
      "cell_type": "code",
      "source": [
        "context = \"Age\"\n",
        "print(f\"Maximum {context}:\", max(train[f\"{context}\"].unique()))\n",
        "print(f\"Minimum {context}:\", min(train[f\"{context}\"].unique()))\n",
        "print(f\"Average {context}:\", round(train[f\"{context}\"].mean(), 2))\n",
        "print(\"Standard Deviation:\", round(train[f\"{context}\"].std(), 2))\n",
        "print()\n",
        "train[f\"{context}\"].plot(kind=\"hist\", figsize=(5,5), title=context)"
      ],
      "metadata": {
        "colab": {
          "base_uri": "https://localhost:8080/",
          "height": 440
        },
        "id": "hVnilggmCCRd",
        "outputId": "7112cc5e-3fa9-4364-97b1-3b9b6f22b4af"
      },
      "execution_count": null,
      "outputs": [
        {
          "output_type": "stream",
          "name": "stdout",
          "text": [
            "Maximum Age: 80.0\n",
            "Minimum Age: 0.42\n",
            "Average Age: 29.7\n",
            "Standard Deviation: 13.0\n",
            "\n"
          ]
        },
        {
          "output_type": "execute_result",
          "data": {
            "text/plain": [
              "<matplotlib.axes._subplots.AxesSubplot at 0x7f4fa1573e90>"
            ]
          },
          "metadata": {},
          "execution_count": 14
        },
        {
          "output_type": "display_data",
          "data": {
            "text/plain": [
              "<Figure size 360x360 with 1 Axes>"
            ],
            "image/png": "[encoded data removed]"
          },
          "metadata": {
            "needs_background": "light"
          }
        }
      ]
    },
    {
      "cell_type": "code",
      "source": [
        "# Data exploration on age groups\n",
        "\n",
        "def gen_age_groups(value):\n",
        "  if value <= 18:\n",
        "    return 18\n",
        "  elif value <= 35:\n",
        "    return 35\n",
        "  else:\n",
        "    return 80\n",
        "\n",
        "explore_train = train\n",
        "explore_train[\"Age\"] = explore_train[\"Age\"].map(gen_age_groups)\n",
        "explore_train.groupby(\"Age\")[\"Survived\"].value_counts()"
      ],
      "metadata": {
        "id": "8bb8M62ECGTg",
        "colab": {
          "base_uri": "https://localhost:8080/"
        },
        "outputId": "ad65f431-846a-481a-c556-11572c4da8cf"
      },
      "execution_count": null,
      "outputs": [
        {
          "output_type": "execute_result",
          "data": {
            "text/plain": [
              "Age  Survived\n",
              "18   1            70\n",
              "     0            69\n",
              "35   0           346\n",
              "     1           189\n",
              "80   0           134\n",
              "     1            83\n",
              "Name: Survived, dtype: int64"
            ]
          },
          "metadata": {},
          "execution_count": 16
        }
      ]
    },
    {
      "cell_type": "code",
      "source": [
        "train.groupby(\"Age\")[\"Survived\"].value_counts().plot(kind=\"bar\", figsize=(6,6))"
      ],
      "metadata": {
        "id": "3BHMUH9sKI8A",
        "colab": {
          "base_uri": "https://localhost:8080/",
          "height": 428
        },
        "outputId": "d51b5ddf-1472-4c89-b489-b6bbcaeee7fd"
      },
      "execution_count": null,
      "outputs": [
        {
          "output_type": "execute_result",
          "data": {
            "text/plain": [
              "<matplotlib.axes._subplots.AxesSubplot at 0x7f4fa13a2dd0>"
            ]
          },
          "metadata": {},
          "execution_count": 19
        },
        {
          "output_type": "display_data",
          "data": {
            "text/plain": [
              "<Figure size 432x432 with 1 Axes>"
            ],
            "image/png": "[encoded data removed]"
          },
          "metadata": {
            "needs_background": "light"
          }
        }
      ]
    },
    {
      "cell_type": "code",
      "source": [
        "for col in train.columns:\n",
        "  if col == \"Survived\":\n",
        "    continue\n",
        "  else:\n",
        "    print(f\"Correlation of Survived__{col}:\", round(train.Survived.corr(train[col]), 4))\n",
        "\n",
        "# train.corr()"
      ],
      "metadata": {
        "id": "s3FKguLfFSbn",
        "colab": {
          "base_uri": "https://localhost:8080/"
        },
        "outputId": "86b77cfe-396f-40c1-8884-3fce48c36a72"
      },
      "execution_count": null,
      "outputs": [
        {
          "output_type": "stream",
          "name": "stdout",
          "text": [
            "Correlation of Survived__Pclass: -0.3385\n",
            "Correlation of Survived__Sex: -0.5434\n",
            "Correlation of Survived__Age: -0.0698\n",
            "Correlation of Survived__SibSp: -0.0353\n",
            "Correlation of Survived__Parch: 0.0816\n",
            "Correlation of Survived__Fare: 0.2573\n",
            "Correlation of Survived__Embarked: 0.1068\n"
          ]
        }
      ]
    },
    {
      "cell_type": "markdown",
      "source": [
        "# **Normalization**"
      ],
      "metadata": {
        "id": "GQsGjLMsMVvj"
      }
    },
    {
      "cell_type": "code",
      "source": [
        "# NORMALIZATION\n",
        "\n",
        "cols_to_norm = [\"Pclass\", \"Age\", \"SibSp\", \"Parch\", \"Fare\", \"Embarked\"]\n",
        "\n",
        "train[cols_to_norm]=(train[cols_to_norm]-train[cols_to_norm].mean())/train[cols_to_norm].std()\n",
        "test[cols_to_norm]=(test[cols_to_norm]-test[cols_to_norm].mean())/test[cols_to_norm].std()"
      ],
      "metadata": {
        "id": "hbAFAK_chD_7"
      },
      "execution_count": null,
      "outputs": []
    },
    {
      "cell_type": "markdown",
      "source": [
        "# **DNN**"
      ],
      "metadata": {
        "id": "UOi6IySjJF78"
      }
    },
    {
      "cell_type": "code",
      "source": [
        "import tensorflow as tf\n",
        "import tensorflow.keras.layers as layer\n",
        "import matplotlib.pyplot as plt\n",
        "\n",
        "from tensorflow.keras.models import Sequential\n",
        "\n",
        "\n",
        "train_features = train.drop(\"Survived\", axis=\"columns\").to_numpy()\n",
        "train_labels = train.Survived.to_numpy()\n",
        "test_features = test.to_numpy()"
      ],
      "metadata": {
        "id": "wLIbYo-mrIT1"
      },
      "execution_count": null,
      "outputs": []
    },
    {
      "cell_type": "code",
      "source": [
        "tf.random.set_seed(32)\n",
        "\n",
        "# 200 epochs --> test accuracy: 0.78468 (top 15% in the Kaggle competition)\n",
        "model = Sequential([\n",
        "                    layer.Dense(14, activation=\"relu\"),\n",
        "                    layer.BatchNormalization(),\n",
        "                    layer.Dropout(0.4),\n",
        "                    layer.Dense(28, activation=\"relu\"),\n",
        "                    layer.BatchNormalization(),\n",
        "                    layer.Dense(14, activation=\"relu\"),\n",
        "                    layer.BatchNormalization(),\n",
        "                    layer.Dropout(0.4),\n",
        "                    layer.Dense(1, activation=\"sigmoid\")\n",
        "])\n",
        "\n",
        "model.compile(loss=\"binary_crossentropy\",\n",
        "              optimizer=\"adam\",\n",
        "              metrics=[\"accuracy\"])\n",
        "\n",
        "history = model.fit(train_features, train_labels, epochs=200, verbose=1)"
      ],
      "metadata": {
        "id": "IWcGwHWhwv-d"
      },
      "execution_count": null,
      "outputs": []
    },
    {
      "cell_type": "code",
      "source": [
        "# Take a look at the training curves of your model\n",
        "\n",
        "acc = history.history['accuracy']\n",
        "loss = history.history['loss']\n",
        "\n",
        "epochs = range(len(acc))\n",
        "\n",
        "plt.plot(epochs, acc, 'b', label='Training accuracy')\n",
        "plt.title('Training accuracy')\n",
        "\n",
        "plt.figure()\n",
        "\n",
        "plt.plot(epochs, loss, 'b', label='Training Loss')\n",
        "plt.title('Training loss')\n",
        "plt.legend()\n",
        "\n",
        "plt.show()"
      ],
      "metadata": {
        "id": "RxhMobkizkD8",
        "colab": {
          "base_uri": "https://localhost:8080/",
          "height": 545
        },
        "outputId": "023ab6c1-4d98-4395-eddf-ab0270ec740a"
      },
      "execution_count": null,
      "outputs": [
        {
          "output_type": "display_data",
          "data": {
            "text/plain": [
              "<Figure size 432x288 with 1 Axes>"
            ],
            "image/png": "[encoded data removed]"
          },
          "metadata": {
            "needs_background": "light"
          }
        },
        {
          "output_type": "display_data",
          "data": {
            "text/plain": [
              "<Figure size 432x288 with 1 Axes>"
            ],
            "image/png": "[encoded data removed]"
          },
          "metadata": {
            "needs_background": "light"
          }
        }
      ]
    },
    {
      "cell_type": "code",
      "source": [
        "predictions = model.predict(test_features)"
      ],
      "metadata": {
        "id": "IVKZ0gkr5KIX"
      },
      "execution_count": null,
      "outputs": []
    },
    {
      "cell_type": "code",
      "source": [
        "survived = []\n",
        "\n",
        "for p in predictions:\n",
        "  if p[0] >= 0.8:\n",
        "    survived.append(1)\n",
        "  else:\n",
        "    survived.append(0)"
      ],
      "metadata": {
        "id": "N4NdDW6154QQ"
      },
      "execution_count": null,
      "outputs": []
    },
    {
      "cell_type": "code",
      "source": [
        "import os\n",
        "\n",
        "# remove the old set of predictions\n",
        "for f in os.listdir():\n",
        "  if f == \"predictions.csv\":\n",
        "    os.system(\"rm /content/predictions.csv\")\n",
        "\n",
        "results = pd.DataFrame(test_ids, columns=[\"PassengerId\"])\n",
        "results[\"Survived\"] = survived\n",
        "\n",
        "results.to_csv(\"/content/predictions.csv\", index=False)"
      ],
      "metadata": {
        "id": "q3EPz8NH0PBF"
      },
      "execution_count": null,
      "outputs": []
    },
    {
      "cell_type": "markdown",
      "source": [
        "# **Classic ML approaches**"
      ],
      "metadata": {
        "id": "McO-TCNNJMRC"
      }
    },
    {
      "cell_type": "code",
      "source": [
        "from sklearn.linear_model import LogisticRegression\n",
        "from sklearn.neighbors import KNeighborsClassifier\n",
        "from sklearn.ensemble import RandomForestClassifier"
      ],
      "metadata": {
        "id": "doIp5jbr9zHM"
      },
      "execution_count": null,
      "outputs": []
    },
    {
      "cell_type": "code",
      "source": [
        "x_train = train.drop(\"Survived\",  axis=\"columns\")\n",
        "y_train = train[\"Survived\"]\n",
        "\n",
        "x_test = test"
      ],
      "metadata": {
        "id": "IU4MGXdp-JJm"
      },
      "execution_count": null,
      "outputs": []
    },
    {
      "cell_type": "code",
      "source": [
        "logistic_regression = LogisticRegression()\n",
        "logistic_regression.fit(x_train, y_train)\n",
        "y_pred = logistic_regression.predict(x_test)\n",
        "logistic_regression.score(x_train, y_train)"
      ],
      "metadata": {
        "id": "IhgC8EZ57o9e",
        "colab": {
          "base_uri": "https://localhost:8080/"
        },
        "outputId": "9a5cf992-7beb-47fb-8bcd-e03cce8327a2"
      },
      "execution_count": null,
      "outputs": [
        {
          "output_type": "execute_result",
          "data": {
            "text/plain": [
              "0.8080808080808081"
            ]
          },
          "metadata": {},
          "execution_count": 32
        }
      ]
    },
    {
      "cell_type": "code",
      "source": [
        "knn = KNeighborsClassifier(n_neighbors=3)\n",
        "knn.fit(x_train, y_train)\n",
        "y_pred = knn.predict(x_test)\n",
        "knn.score(x_train, y_train)"
      ],
      "metadata": {
        "id": "aAWNl2R07uin",
        "colab": {
          "base_uri": "https://localhost:8080/"
        },
        "outputId": "7d5ee374-2eea-4702-e120-fb2846740ee2"
      },
      "execution_count": null,
      "outputs": [
        {
          "output_type": "execute_result",
          "data": {
            "text/plain": [
              "0.8540965207631874"
            ]
          },
          "metadata": {},
          "execution_count": 33
        }
      ]
    },
    {
      "cell_type": "code",
      "source": [
        "random_forest = RandomForestClassifier(n_estimators=100)\n",
        "random_forest.fit(x_train, y_train)\n",
        "y_pred = random_forest.predict(x_test)\n",
        "random_forest.score(x_train, y_train)"
      ],
      "metadata": {
        "colab": {
          "base_uri": "https://localhost:8080/"
        },
        "id": "KxkQvbaa7u4f",
        "outputId": "9da9e92a-0ff9-46f4-c39c-2a981c004628"
      },
      "execution_count": null,
      "outputs": [
        {
          "output_type": "execute_result",
          "data": {
            "text/plain": [
              "0.9382716049382716"
            ]
          },
          "metadata": {},
          "execution_count": 31
        }
      ]
    },
    {
      "cell_type": "markdown",
      "source": [
        "Experiments:\n",
        "\n",
        "-  **without** outliers:       LR=0.7968574635241302; KNN=0.8799102132435466; RF=0.9820426487093153;\n",
        "- **with** outliers:       LR=0.8035914702581369; KNN=0.877665544332211;  RF=0.9820426487093153;\n",
        "\n",
        "- **without** normalization:  LR=0.8035914702581369; KNN=0.8305274971941639; RF=0.9820426487093153;\n",
        "- **with** normalization:  LR=0.8035914702581369; KNN=0.877665544332211;  RF=0.9820426487093153;"
      ],
      "metadata": {
        "id": "YPVvZqEo35MZ"
      }
    },
    {
      "cell_type": "code",
      "source": [
        "final_output = pd.DataFrame(test_ids, columns=[\"PassengerId\"])\n",
        "final_output[\"Survived\"] = y_pred\n",
        "\n",
        "final_output.to_csv(\"/content/predictions.csv\", index=False)"
      ],
      "metadata": {
        "id": "D5TlWPTeRUsq"
      },
      "execution_count": null,
      "outputs": []
    }
  ]
}